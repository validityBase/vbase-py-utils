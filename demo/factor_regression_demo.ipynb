{
 "cells": [
  {
   "cell_type": "markdown",
   "id": "c84097a9-85b7-4dc8-b801-19244c3a36b4",
   "metadata": {},
   "source": [
    "# Factor Regression Demo\n",
    "\n",
    "This notebook demonstrates how to use functions from 'vbase_py_utils.stats.cross_section_regression':\n",
    "\n",
    "- 'run_cross_sectional_regression'\n",
    "- 'run_monthly_factor_returns'\n",
    "\n",
    "We simulate data to estimate cross-sectional factor returns and visualize the results."
   ]
  },
  {
   "cell_type": "markdown",
   "id": "95b18d3e-7fe9-46eb-bc63-7519ea986eee",
   "metadata": {},
   "source": [
    "# Import modules"
   ]
  },
  {
   "cell_type": "code",
   "execution_count": null,
   "id": "3c7a8ee2-4715-4fc3-8a8b-c61aed578ae1",
   "metadata": {},
   "outputs": [],
   "source": [
    "import numpy as np\n",
    "import pandas as pd\n",
    "import matplotlib.pyplot as plt\n",
    "\n",
    "from vbase_py_utils.stats.cross_section_regression import (\n",
    "    run_cross_sectional_regression,\n",
    "    run_monthly_factor_returns,\n",
    ")"
   ]
  },
  {
   "cell_type": "markdown",
   "id": "c8bdebde-ba10-4c02-a119-53a270c18873",
   "metadata": {},
   "source": [
    "# Simulate data"
   ]
  },
  {
   "cell_type": "code",
   "execution_count": null,
   "id": "823b1bbb-f300-4f6f-8100-2154d6d7b3e0",
   "metadata": {},
   "outputs": [],
   "source": [
    "np.random.seed(42)\n",
    "\n",
    "n_assets = 50\n",
    "n_factors = 3\n",
    "n_months = 12\n",
    "\n",
    "assets = [f\"Asset_{i}\" for i in range(n_assets)]\n",
    "factors = [f\"Factor_{j}\" for j in range(n_factors)]\n",
    "periods = [f\"2023-{str(m).zfill(2)}\" for m in range(1, n_months + 1)]\n",
    "\n",
    "# Exposures: MultiIndex DataFrame (period, asset)\n",
    "idx = pd.MultiIndex.from_product([periods, assets], names=[\"period\", \"asset\"])\n",
    "exposures_df = pd.DataFrame(np.random.randn(len(idx), n_factors), index=idx, columns=factors)\n",
    "\n",
    "# True factor returns\n",
    "true_factor_returns = pd.DataFrame(\n",
    "    np.random.randn(n_months, n_factors) * 0.02,\n",
    "    index=periods,\n",
    "    columns=factors,\n",
    ")\n",
    "\n",
    "# Simulate asset returns and weights\n",
    "returns_data = {}\n",
    "weights_data = {}\n",
    "\n",
    "for period in periods:\n",
    "    X = exposures_df.loc[period].values\n",
    "    f = true_factor_returns.loc[period].values\n",
    "    noise = np.random.randn(n_assets) * 0.005\n",
    "    r_vals = X @ f + noise\n",
    "    returns_data[period] = pd.Series(r_vals, index=assets)\n",
    "\n",
    "    # Equal weights\n",
    "    weights_data[period] = pd.Series(1.0, index=assets)\n",
    "\n",
    "returns_df = pd.DataFrame(returns_data)\n",
    "weights_df = pd.concat(weights_data, names=[\"period\", \"asset\"]).to_frame(\"weight\")"
   ]
  },
  {
   "cell_type": "markdown",
   "id": "4abd6fd0-2b1a-4c2b-9e32-f65282f5110f",
   "metadata": {},
   "source": [
    "# Run run_monthly_factor_returns"
   ]
  },
  {
   "cell_type": "code",
   "execution_count": null,
   "id": "1d67ffcb-ffaf-4136-9c28-e54bd97ea438",
   "metadata": {},
   "outputs": [],
   "source": [
    "estimated_returns = run_monthly_factor_returns(\n",
    "    returns_df=returns_df,\n",
    "    exposures_df=exposures_df,\n",
    "    weights_df=weights_df,\n",
    "    huber_t=1.345,\n",
    ")"
   ]
  },
  {
   "cell_type": "markdown",
   "id": "a0b3ce11-38c1-487e-97ef-c4d92fd8103b",
   "metadata": {},
   "source": [
    "# Compare results"
   ]
  },
  {
   "cell_type": "code",
   "execution_count": null,
   "id": "aaf44bee-688d-4f77-8af8-3cdb889934bd",
   "metadata": {},
   "outputs": [],
   "source": [
    "comparison = pd.concat(\n",
    "    [\n",
    "        true_factor_returns.rename(columns=lambda x: f\"True_{x}\"),\n",
    "        estimated_returns.rename(columns=lambda x: f\"Est_{x}\"),\n",
    "    ],\n",
    "    axis=1,\n",
    ")\n",
    "\n",
    "comparison.head()"
   ]
  },
  {
   "cell_type": "markdown",
   "id": "6afd66ff-bc68-446f-86a2-2bdb03d30bed",
   "metadata": {},
   "source": [
    "# Visualize Factor 0"
   ]
  },
  {
   "cell_type": "code",
   "execution_count": null,
   "id": "7e37d7a2-921a-434c-9e7a-46237a393505",
   "metadata": {},
   "outputs": [],
   "source": [
    "plt.figure(figsize=(10, 4))\n",
    "plt.plot(comparison.index, comparison[\"True_Factor_0\"], marker=\"o\", label=\"True Factor_0\")\n",
    "plt.plot(comparison.index, comparison[\"Est_Factor_0\"], marker=\"x\", label=\"Estimated Factor_0\")\n",
    "plt.xticks(rotation=45)\n",
    "plt.title(\"True vs Estimated Factor 0\")\n",
    "plt.xlabel(\"Period\")\n",
    "plt.ylabel(\"Factor Return\")\n",
    "plt.grid(True)\n",
    "plt.legend()\n",
    "plt.tight_layout()\n",
    "plt.show()"
   ]
  }
 ],
 "metadata": {
  "kernelspec": {
   "display_name": "Python 3 (ipykernel)",
   "language": "python",
   "name": "python3"
  },
  "language_info": {
   "codemirror_mode": {
    "name": "ipython",
    "version": 3
   },
   "file_extension": ".py",
   "mimetype": "text/x-python",
   "name": "python",
   "nbconvert_exporter": "python",
   "pygments_lexer": "ipython3",
   "version": "3.12.4"
  }
 },
 "nbformat": 4,
 "nbformat_minor": 5
}
